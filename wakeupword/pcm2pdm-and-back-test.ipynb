{
 "cells": [
  {
   "cell_type": "code",
   "execution_count": null,
   "id": "3f8bc90b",
   "metadata": {},
   "outputs": [],
   "source": [
    "FILE='pdm-test.wav'\n",
    "PDM_SAMPLE_RATE = 3072000  # target sample rate for PDM output\n",
    "PCM_SAMPLE_RATE = 16000  # sample rate of the input PCM audio\n",
    "\n",
    "import numpy as np\n",
    "from deltasigma import synthesizeNTF, simulateDSM\n",
    "from scipy.io import wavfile\n",
    "from scipy.signal import resample\n"
   ]
  },
  {
   "cell_type": "code",
   "execution_count": null,
   "id": "4c932922",
   "metadata": {},
   "outputs": [],
   "source": [
    "# WARNING: May take a long time to run, around 15 minutes per 5 seconds of audio.\n",
    "\n",
    "FILE='pdm-test.wav'\n",
    "PDM_SAMPLE_RATE = 3072000  # target sample rate for PDM output\n",
    "PCM_SAMPLE_RATE = 16000  # sample rate of the input PCM audio\n",
    "\n",
    "import numpy as np\n",
    "from deltasigma import synthesizeNTF, simulateDSM\n",
    "from scipy.io import wavfile\n",
    "from scipy.signal import resample\n",
    "\n",
    "# Load a 16-bit PCM WAV\n",
    "fs_input, pcm_input = wavfile.read(FILE)\n",
    "pcm_resampled = resample(pcm_input, round(len(pcm_input) / fs_input * PDM_SAMPLE_RATE))\n",
    "pcm_resampled = pcm_resampled / np.max(np.abs(pcm_resampled))  # normalize to [-1, 1]\n",
    "\n",
    "# Design a 2nd-order modulator with 64× oversampling\n",
    "OSR = 64\n",
    "ntf = synthesizeNTF(2, OSR)\n",
    "\n",
    "# Simulate the 1-bit PDM stream\n",
    "pdm, _, _, _ = simulateDSM(pcm_resampled, ntf)\n",
    "\n",
    "# Save as raw PDM\n",
    "pdm.astype(np.int8).tofile('output.pdm')\n",
    "\n",
    "print(len(pcm_input), '->', len(pdm), 'samples')"
   ]
  },
  {
   "cell_type": "code",
   "execution_count": null,
   "id": "fa5146b1",
   "metadata": {},
   "outputs": [],
   "source": [
    "h = np.ones(255, dtype=np.float32) / 255  # simple averaging filter"
   ]
  },
  {
   "cell_type": "code",
   "execution_count": null,
   "id": "79042460",
   "metadata": {},
   "outputs": [],
   "source": [
    "pdm = np.fromfile('output.pdm', dtype=np.int8)\n",
    "np.packbits(pdm > 0).tofile('output.1bit.pdm')\n",
    "y = np.convolve(pdm, h, mode='same')\n",
    "step = PDM_SAMPLE_RATE // PCM_SAMPLE_RATE\n",
    "wavfile.write('output.wav', PCM_SAMPLE_RATE, y[::step].astype(np.float32))"
   ]
  }
 ],
 "metadata": {
  "kernelspec": {
   "display_name": ".venv",
   "language": "python",
   "name": "python3"
  },
  "language_info": {
   "codemirror_mode": {
    "name": "ipython",
    "version": 3
   },
   "file_extension": ".py",
   "mimetype": "text/x-python",
   "name": "python",
   "nbconvert_exporter": "python",
   "pygments_lexer": "ipython3",
   "version": "3.10.12"
  }
 },
 "nbformat": 4,
 "nbformat_minor": 5
}

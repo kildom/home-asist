{
 "cells": [
  {
   "cell_type": "markdown",
   "id": "8502f5c4",
   "metadata": {},
   "source": [
    "### Adjust Configuration\n",
    "\n",
    "If needed, adjust learning configuration in: [src/config.py](src/config.py)"
   ]
  },
  {
   "cell_type": "markdown",
   "id": "8192ad57",
   "metadata": {},
   "source": [
    "### Create Python Virtual Environment"
   ]
  },
  {
   "cell_type": "code",
   "execution_count": null,
   "id": "63951b53",
   "metadata": {},
   "outputs": [],
   "source": [
    "from pathlib import Path\n",
    "if not (Path.cwd() / '.venv').exists():\n",
    "    !python -m venv .venv"
   ]
  },
  {
   "cell_type": "markdown",
   "id": "78ce54f0",
   "metadata": {},
   "source": [
    "### Install packages"
   ]
  },
  {
   "cell_type": "code",
   "execution_count": null,
   "id": "553a154d",
   "metadata": {},
   "outputs": [],
   "source": [
    "%pip install -r requirements.txt"
   ]
  },
  {
   "cell_type": "markdown",
   "id": "be9f9e17",
   "metadata": {},
   "source": [
    "### Check Learning Samples"
   ]
  },
  {
   "cell_type": "code",
   "execution_count": null,
   "id": "279f2729",
   "metadata": {},
   "outputs": [],
   "source": [
    "!python learn/01.check-samples.py"
   ]
  },
  {
   "cell_type": "markdown",
   "id": "276d797f",
   "metadata": {},
   "source": [
    "### Download Room Impulse Responses"
   ]
  },
  {
   "cell_type": "code",
   "execution_count": null,
   "id": "57cbe696",
   "metadata": {},
   "outputs": [],
   "source": [
    "!python learn/02.download-rirs.py"
   ]
  },
  {
   "cell_type": "markdown",
   "id": "515471ad",
   "metadata": {},
   "source": [
    "### Download Background Sounds"
   ]
  },
  {
   "cell_type": "code",
   "execution_count": null,
   "id": "5d480853",
   "metadata": {},
   "outputs": [],
   "source": [
    "!python learn/03.download-background.py"
   ]
  },
  {
   "cell_type": "code",
   "execution_count": null,
   "id": "de713c0d",
   "metadata": {},
   "outputs": [],
   "source": [
    "\n",
    "import os\n",
    "import sys\n",
    "import math\n",
    "from tqdm import tqdm\n",
    "import numpy as np\n",
    "from scipy.io import wavfile\n",
    "from src.common import find_samples\n",
    "from IPython.display import Audio, display\n",
    "import src.config as cfg\n",
    "import audiomentations\n",
    "import random\n",
    "from scipy.signal import resample\n",
    "\n",
    "i = 0\n",
    "for sample in tqdm(find_samples(cfg.SAMPLE_DIR)):\n",
    "    sample_rate, data = wavfile.read(sample.wav)\n",
    "    data = data.astype(np.float32) / 32767\n",
    "    display(Audio(data=data, rate=sample_rate))\n",
    "    if random.random() < cfg.modifications.resample_probability:\n",
    "        min_length = 10000\n",
    "        max_length = 0\n",
    "        for label in sample.labels:\n",
    "            if not label.text.lower().startswith('p'):\n",
    "                continue\n",
    "            length = label.end - label.begin\n",
    "            min_length = min(min_length, length)\n",
    "            max_length = max(max_length, length)\n",
    "        if max_length == 0:\n",
    "            max_length = (cfg.MAX_TARGET_LENGTH_SEC + cfg.MIN_TARGET_LENGTH_SEC) / 2\n",
    "            min_length = max_length\n",
    "        print(min_length, max_length)\n",
    "        rate_max = cfg.MAX_TARGET_LENGTH_SEC / max_length\n",
    "        rate_min = cfg.MIN_TARGET_LENGTH_SEC / min_length\n",
    "        print(f'Resampling {sample.wav} with rate {rate_min:.2f} - {rate_max:.2f}')\n",
    "        rate_max = min(cfg.modifications.resample_max_rate, cfg.MAX_TARGET_LENGTH_SEC / max_length)\n",
    "        rate_min = max(cfg.modifications.resample_min_rate, cfg.MIN_TARGET_LENGTH_SEC / min_length)\n",
    "        if rate_min <= rate_max:\n",
    "            rate = random.uniform(rate_min, rate_max)\n",
    "            new_sample_count = int(math.ceil(data.shape[0] * rate))\n",
    "            rate = new_sample_count / data.shape[0]\n",
    "            data = resample(data, new_sample_count)\n",
    "            for label in sample.labels:\n",
    "                label.begin *= rate\n",
    "                label.end *= rate\n",
    "            print(f'Resampling {sample.wav} with rate {rate_min:.2f} - {rate_max:.2f}: {rate:.2f}')\n",
    "\n",
    "    tr = audiomentations.Compose([\n",
    "        audiomentations.AddBackgroundNoise(\n",
    "            p=cfg.modifications.background_noise_probability,\n",
    "            min_snr_db=cfg.modifications.background_noise_min_db,\n",
    "            max_snr_db=cfg.modifications.background_noise_max_db,\n",
    "            sounds_path='data/esc50',\n",
    "            noise_rms='relative',\n",
    "        ),\n",
    "        audiomentations.AddColorNoise(\n",
    "            p=cfg.modifications.color_noise_probability,\n",
    "            min_snr_db=cfg.modifications.color_noise_min_db,\n",
    "            max_snr_db=cfg.modifications.color_noise_max_db,\n",
    "        ),\n",
    "        audiomentations.ApplyImpulseResponse(\n",
    "            p=cfg.modifications.impulse_response_probability,\n",
    "            ir_path='data/mit_rirs',\n",
    "        ),\n",
    "        audiomentations.LoudnessNormalization(\n",
    "            p=1.0,\n",
    "            min_lufs=-22.0,\n",
    "            max_lufs=-22.0,\n",
    "        ),\n",
    "        audiomentations.Gain(\n",
    "            p=cfg.modifications.gain_probability,\n",
    "            min_gain_db=cfg.modifications.gain_min_db,\n",
    "            max_gain_db=cfg.modifications.gain_max_db,\n",
    "        ),\n",
    "        audiomentations.Clip(\n",
    "            p=1.0,\n",
    "        ),\n",
    "    ])\n",
    "    data2 = tr(data, sample_rate)\n",
    "    display(Audio(data=data2, rate=sample_rate, normalize=False))\n",
    "    i += 1\n",
    "    if i == 20: break"
   ]
  }
 ],
 "metadata": {
  "kernelspec": {
   "display_name": ".venv",
   "language": "python",
   "name": "python3"
  },
  "language_info": {
   "codemirror_mode": {
    "name": "ipython",
    "version": 3
   },
   "file_extension": ".py",
   "mimetype": "text/x-python",
   "name": "python",
   "nbconvert_exporter": "python",
   "pygments_lexer": "ipython3",
   "version": "3.10.12"
  }
 },
 "nbformat": 4,
 "nbformat_minor": 5
}

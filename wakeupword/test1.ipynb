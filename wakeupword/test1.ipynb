{
 "cells": [
  {
   "cell_type": "code",
   "execution_count": null,
   "id": "310cd750",
   "metadata": {},
   "outputs": [],
   "source": [
    "\n",
    "import wave\n",
    "import numpy as np\n",
    "import tflite_runtime.interpreter as tflite\n",
    "from pprint import pprint\n",
    "\n",
    "melspec_model_path = \"models/melspectrogram.tflite\"\n",
    "embedding_model_path = \"models/embedding_model.tflite\"\n",
    "ncpu = 4"
   ]
  },
  {
   "cell_type": "code",
   "execution_count": null,
   "id": "3f21d972",
   "metadata": {},
   "outputs": [],
   "source": [
    "\n",
    "\n",
    "melspec_model = tflite.Interpreter(model_path=melspec_model_path, num_threads=ncpu)\n",
    "melspec_model.resize_tensor_input(0, [1, 1280], strict=True)\n",
    "melspec_model.allocate_tensors()\n",
    "pprint([melspec_model.get_input_details(), melspec_model.get_output_details()])\n",
    "melspec_input_index = melspec_model.get_input_details()[0]['index']\n",
    "melspec_output_index = melspec_model.get_output_details()[0]['index']\n",
    "\n",
    "def melspec(x):\n",
    "    if len(x.shape) == 1:\n",
    "        x = x[None, ]\n",
    "    x = x.astype(np.float32)\n",
    "    if melspec_model.get_input_details()[0]['shape'][1] != x.shape[1]:\n",
    "        if x.shape[1] < 640 or x.shape[1] % 160 != 0:\n",
    "            raise ValueError(\"Input length must be a multiple of 160 and at least 640\")\n",
    "        melspec_model.resize_tensor_input(0, [1, x.shape[1]], strict=True)\n",
    "        melspec_model.allocate_tensors()\n",
    "    melspec_model.set_tensor(melspec_input_index, x)\n",
    "    melspec_model.invoke()\n",
    "    return melspec_model.get_tensor(melspec_output_index)"
   ]
  },
  {
   "cell_type": "code",
   "execution_count": null,
   "id": "5538bab5",
   "metadata": {},
   "outputs": [],
   "source": [
    "embedding_model = tflite.Interpreter(model_path=embedding_model_path, num_threads=ncpu)\n",
    "embedding_model.allocate_tensors()\n",
    "pprint([embedding_model.get_input_details(), embedding_model.get_output_details()])\n",
    "embedding_input_index = embedding_model.get_input_details()[0]['index']\n",
    "embedding_output_index = embedding_model.get_output_details()[0]['index']\n",
    "\n",
    "def embedding(x):\n",
    "    embedding_model.set_tensor(embedding_input_index, x)\n",
    "    embedding_model.invoke()\n",
    "    return embedding_model.get_tensor(embedding_output_index)"
   ]
  },
  {
   "cell_type": "markdown",
   "id": "0abad05b",
   "metadata": {},
   "source": [
    "\n",
    "# Calculations\n",
    "\n",
    "`160 * N + 480` (`10ms * N + 30ms`) wave samples ==> generates `N` vectors of spectrogram\n",
    "\n",
    "76 vectors (12160 samples, 760ms) ==> generates `1` embedding\n",
    "\n",
    "Embedding are overlapping with step of 8 vectors (1280 samples, 80ms)"
   ]
  },
  {
   "cell_type": "code",
   "execution_count": null,
   "id": "29f6899d",
   "metadata": {},
   "outputs": [],
   "source": [
    "with wave.open(\"data/sample1.wav\", \"rb\") as wf:\n",
    "    nframes = (wf.getparams().nframes // 160) * 160\n",
    "    x = np.frombuffer(wf.readframes(nframes), dtype=np.int16)\n",
    "\n",
    "spec = melspec(x).squeeze()\n",
    "\n",
    "samples = (spec.shape[0] - 76) // 8 + 1\n",
    "\n",
    "embeddings = np.empty((samples, 96), dtype=np.float32)\n",
    "\n",
    "for i in range(0, spec.shape[0] - 76, 8):\n",
    "    x = spec[i:i+76]\n",
    "    x = x[None,:,:,None]\n",
    "    y = embedding(x)\n",
    "    embeddings[i // 8,:] = y.squeeze()\n",
    "\n",
    "# bb = melspec(b)\n",
    "# cc = melspec(c)\n",
    "\n",
    "# print(\"A shape:\", a.shape, aa.shape)\n",
    "# print(\"B shape:\", b.shape, bb.shape)\n",
    "# print(\"C shape:\", c.shape, cc.shape)\n",
    "\n",
    "# aaa = np.reshape(aa, (32,)) - np.reshape(cc[:,:,0,:], (32,))\n",
    "# bbb = np.reshape(bb, (32,)) - np.reshape(cc[:,:,1,:], (32,))\n",
    "# print(\"AAA shape:\", aaa.shape)\n",
    "# # Sum all elements of aaa and bbb\n",
    "# print(\"AAA sum:\", np.sum(aaa))\n",
    "# print(\"BBB sum:\", np.sum(bbb))\n",
    "\n",
    "# y = melspec(x).squeeze()\n",
    "# y = y[None,:,:,None]\n",
    "# print(\"Spec shape:\", y.shape, y.dtype)\n",
    "# z = embedding(y)\n",
    "# print(\"Output shape:\", z.shape, z.dtype, z)\n",
    "\n"
   ]
  }
 ],
 "metadata": {
  "kernelspec": {
   "display_name": ".venv",
   "language": "python",
   "name": "python3"
  },
  "language_info": {
   "codemirror_mode": {
    "name": "ipython",
    "version": 3
   },
   "file_extension": ".py",
   "mimetype": "text/x-python",
   "name": "python",
   "nbconvert_exporter": "python",
   "pygments_lexer": "ipython3",
   "version": "3.10.12"
  }
 },
 "nbformat": 4,
 "nbformat_minor": 5
}

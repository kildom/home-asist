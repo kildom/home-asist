{
 "cells": [
  {
   "cell_type": "markdown",
   "id": "6189bc0e",
   "metadata": {},
   "source": [
    "# Initial experiments with embeddings model"
   ]
  },
  {
   "cell_type": "code",
   "execution_count": 1,
   "id": "b8df3521",
   "metadata": {},
   "outputs": [],
   "source": [
    "import sys\n",
    "sys.path.insert(0, '../train')"
   ]
  },
  {
   "cell_type": "markdown",
   "id": "ad256bdf",
   "metadata": {},
   "source": [
    "### Download from hub (or load cached file)"
   ]
  },
  {
   "cell_type": "code",
   "execution_count": 2,
   "id": "2383d434",
   "metadata": {},
   "outputs": [
    {
     "name": "stderr",
     "output_type": "stream",
     "text": [
      "2025-07-31 21:08:35.827011: E external/local_xla/xla/stream_executor/cuda/cuda_fft.cc:467] Unable to register cuFFT factory: Attempting to register factory for plugin cuFFT when one has already been registered\n",
      "WARNING: All log messages before absl::InitializeLog() is called are written to STDERR\n",
      "E0000 00:00:1753988915.851420   18174 cuda_dnn.cc:8579] Unable to register cuDNN factory: Attempting to register factory for plugin cuDNN when one has already been registered\n",
      "E0000 00:00:1753988915.856453   18174 cuda_blas.cc:1407] Unable to register cuBLAS factory: Attempting to register factory for plugin cuBLAS when one has already been registered\n",
      "W0000 00:00:1753988915.872315   18174 computation_placer.cc:177] computation placer already registered. Please check linkage and avoid linking the same target more than once.\n",
      "W0000 00:00:1753988915.872336   18174 computation_placer.cc:177] computation placer already registered. Please check linkage and avoid linking the same target more than once.\n",
      "W0000 00:00:1753988915.872338   18174 computation_placer.cc:177] computation placer already registered. Please check linkage and avoid linking the same target more than once.\n",
      "W0000 00:00:1753988915.872339   18174 computation_placer.cc:177] computation placer already registered. Please check linkage and avoid linking the same target more than once.\n",
      "2025-07-31 21:08:35.876228: I tensorflow/core/platform/cpu_feature_guard.cc:210] This TensorFlow binary is optimized to use available CPU instructions in performance-critical operations.\n",
      "To enable the following instructions: AVX2 FMA, in other operations, rebuild TensorFlow with the appropriate compiler flags.\n",
      "2025-07-31 21:08:38.315978: E external/local_xla/xla/stream_executor/cuda/cuda_platform.cc:51] failed call to cuInit: INTERNAL: CUDA error: Failed call to cuInit: UNKNOWN ERROR (303)\n"
     ]
    },
    {
     "name": "stdout",
     "output_type": "stream",
     "text": [
      "Signatures: ['default']\n"
     ]
    }
   ],
   "source": [
    "import tensorflow as tf\n",
    "import tensorflow_hub as hub\n",
    "from pathlib import Path\n",
    "\n",
    "SAVED_MODEL_DIR = Path('../data/models/saved_speech_embedding_model')\n",
    "\n",
    "if SAVED_MODEL_DIR.exists():\n",
    "    loaded_model = tf.saved_model.load(SAVED_MODEL_DIR)\n",
    "else:\n",
    "    loaded_model = hub.load('https://tfhub.dev/google/speech_embedding/1')\n",
    "    tf.saved_model.save(loaded_model, SAVED_MODEL_DIR, signatures=loaded_model.signatures)\n",
    "\n",
    "loaded_model_default = loaded_model.signatures[\"default\"]\n",
    "\n",
    "print('Signatures:', list(loaded_model.signatures.keys()))"
   ]
  },
  {
   "cell_type": "markdown",
   "id": "54ddf7cd",
   "metadata": {},
   "source": [
    "### Convert to tflite"
   ]
  },
  {
   "cell_type": "code",
   "execution_count": 3,
   "id": "84594169",
   "metadata": {},
   "outputs": [
    {
     "name": "stdout",
     "output_type": "stream",
     "text": [
      "\n",
      "You can inspect /home/doki/my/home-asist/wakeupword/data/models/embedding_model.tflite with https://netron.app/\n"
     ]
    }
   ],
   "source": [
    "TFLITE_MODEL_FILE = Path('../data/models/embedding_model.tflite')\n",
    "\n",
    "if not TFLITE_MODEL_FILE.exists():\n",
    "    converter = tf.lite.TFLiteConverter.from_concrete_functions([loaded_model_default])\n",
    "    converter.target_spec.supported_ops = [\n",
    "        tf.lite.OpsSet.TFLITE_BUILTINS,\n",
    "        tf.lite.OpsSet.SELECT_TF_OPS\n",
    "    ]\n",
    "    TFLITE_MODEL_FILE.write_bytes(converter.convert())\n",
    "\n",
    "print(f'\\nYou can inspect {TFLITE_MODEL_FILE.resolve()} with https://netron.app/')"
   ]
  },
  {
   "cell_type": "markdown",
   "id": "2937e3d8",
   "metadata": {},
   "source": [
    "### Inspect in tensorboard"
   ]
  },
  {
   "cell_type": "code",
   "execution_count": 4,
   "id": "a214537d",
   "metadata": {},
   "outputs": [
    {
     "name": "stdout",
     "output_type": "stream",
     "text": [
      "RUN IN TERMINAL:\n",
      " tensorboard --logdir=./logdir\n"
     ]
    }
   ],
   "source": [
    "writer = tf.summary.create_file_writer(\"../logdir\")\n",
    "with writer.as_default():\n",
    "    tf.summary.graph(loaded_model_default.graph)\n",
    "writer.close()\n",
    "print ('RUN IN TERMINAL:\\n', 'tensorboard --logdir=./logdir')"
   ]
  },
  {
   "cell_type": "markdown",
   "id": "e87a2727",
   "metadata": {},
   "source": [
    "### Detect windowing and sliding sizes"
   ]
  },
  {
   "cell_type": "code",
   "execution_count": 5,
   "id": "e53906f7",
   "metadata": {},
   "outputs": [
    {
     "name": "stdout",
     "output_type": "stream",
     "text": [
      "Minimum samples: 12400 samples = 775.0 ms\n",
      "Sliding step: 1280 samples = 80.0 ms\n",
      "Sliding step: 1280 samples = 80.0 ms\n"
     ]
    }
   ],
   "source": [
    "def binary_search(start, end, callback):\n",
    "    low = start\n",
    "    high = end\n",
    "    while low < high:\n",
    "        mid = (low + high) // 2\n",
    "        if callback(mid):\n",
    "            high = mid\n",
    "        else:\n",
    "            low = mid + 1\n",
    "    return low if low < end else None\n",
    "\n",
    "min_samples = binary_search(12000, 200000, lambda x: int(tf.size(loaded_model_default(tf.random.uniform(shape=(1, x), dtype=tf.float32))['default'])) > 0)\n",
    "after_step1_samples = binary_search(min_samples, 200000, lambda x: int(tf.size(loaded_model_default(tf.random.uniform(shape=(1, x), dtype=tf.float32))['default'])) > 96)\n",
    "after_step2_samples = binary_search(min_samples, 200000, lambda x: int(tf.size(loaded_model_default(tf.random.uniform(shape=(1, x), dtype=tf.float32))['default'])) > 2 * 96)\n",
    "step_samples = after_step1_samples - min_samples\n",
    "print(f'Minimum samples: {min_samples} samples = {min_samples / 16} ms')\n",
    "print(f'Sliding step: {step_samples} samples = {step_samples / 16} ms')\n",
    "print(f'Sliding step: {after_step2_samples - after_step1_samples} samples = {(after_step2_samples - after_step1_samples) / 16} ms')"
   ]
  },
  {
   "cell_type": "markdown",
   "id": "175d771d",
   "metadata": {},
   "source": [
    "### Compare my mel spectrogram with model"
   ]
  },
  {
   "cell_type": "code",
   "execution_count": 18,
   "id": "e9628faa",
   "metadata": {},
   "outputs": [
    {
     "name": "stdout",
     "output_type": "stream",
     "text": [
      "Mel shape (my): (76, 32)\n",
      "Mel shape (TFLite): (1, 76, 32)\n",
      "Max diff: 6.556510925292969e-07\n"
     ]
    }
   ],
   "source": [
    "import numpy as np\n",
    "from mel import calc_mel\n",
    "\n",
    "data = np.random.uniform(size=(min_samples), low=-1.0, high=1.0).astype(np.float32)\n",
    "my_mel = calc_mel(data)\n",
    "\n",
    "model_tflite = tf.lite.Interpreter(model_path=str(TFLITE_MODEL_FILE), experimental_preserve_all_tensors=True)\n",
    "model_tflite.resize_tensor_input(\n",
    "    model_tflite.get_input_details()[0]['index'],\n",
    "    [1, min_samples],\n",
    "    strict=True)\n",
    "model_tflite.allocate_tensors()\n",
    "model_tflite_in = model_tflite.get_input_details()[0]['index']\n",
    "model_tflite_out = model_tflite.get_output_details()[0]['index']\n",
    "model_tflite.set_tensor(model_tflite_in, data.reshape(1, -1))\n",
    "model_tflite.invoke()\n",
    "\n",
    "tensor_details = model_tflite.get_tensor_details()\n",
    "\n",
    "for d in tensor_details:\n",
    "    if d['name'] == 'Squeeze':\n",
    "        model_mel = model_tflite.get_tensor(d['index'])\n",
    "        break\n",
    "else:\n",
    "    raise ValueError('\"Squeeze\" tensor not found in TFLite model')\n",
    "\n",
    "print(f'Mel shape (my): {my_mel.shape}')\n",
    "print(f'Mel shape (TFLite): {model_mel.shape}')\n",
    "\n",
    "diff = my_mel - model_mel.reshape(my_mel.shape)\n",
    "print(f'Max diff: {np.max(np.abs(diff))}')\n"
   ]
  }
 ],
 "metadata": {
  "kernelspec": {
   "display_name": ".venv",
   "language": "python",
   "name": "python3"
  },
  "language_info": {
   "codemirror_mode": {
    "name": "ipython",
    "version": 3
   },
   "file_extension": ".py",
   "mimetype": "text/x-python",
   "name": "python",
   "nbconvert_exporter": "python",
   "pygments_lexer": "ipython3",
   "version": "3.10.12"
  }
 },
 "nbformat": 4,
 "nbformat_minor": 5
}

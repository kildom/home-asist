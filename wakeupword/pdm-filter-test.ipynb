{
 "cells": [
  {
   "cell_type": "code",
   "execution_count": null,
   "id": "42cad3fe",
   "metadata": {},
   "outputs": [],
   "source": [
    "\n",
    "import numpy as np\n",
    "import math\n",
    "\n",
    "# Example code, computes the coefficients of a low-pass windowed-sinc filter.\n",
    "\n",
    "# Configuration.\n",
    "N = 511  # Filter length, must be odd.\n",
    "fS = 3072000  # Sampling rate.\n",
    "outFS = 16000\n",
    "fL = outFS // 2  # Cutoff frequency.\n",
    "\n",
    "# Compute sinc filter.\n",
    "h = np.sinc(2 * fL / fS * (np.arange(N) - (N - 1) / 2))\n",
    "\n",
    "if 0: # add bass\n",
    "    h += np.arange(N) * 0.5 / N\n",
    "# Apply window.\n",
    "#h = np.ones(N)\n",
    "#h *= np.hamming(N)\n",
    "h *= np.blackman(N)\n",
    "\n",
    "\n",
    "if 0:\n",
    "    actN = int(round(N * 0.75))\n",
    "    for i in range((len(h) - actN) // 2):\n",
    "        h[i] = 0\n",
    "        h[-i - 1] = 0\n",
    "    print('Actual length:', actN)\n",
    "\n",
    "# Normalize to get unity gain.\n",
    "h /= np.sum(h)\n",
    "\n",
    "for i in range(len(h) // 2, len(h)):\n",
    "    if h[i] < 0:\n",
    "        break\n",
    "\n",
    "print('Input samples per one output sample:', fS / outFS)\n",
    "pos_window = (i - 1 - len(h) // 2) * 2\n",
    "print('Positive middle window:')\n",
    "print('    in input samples: ', pos_window)\n",
    "print('    in output samples: ', pos_window / (fS / outFS))\n",
    "\n",
    "# Applying the filter to a signal s can be as simple as writing\n",
    "# s = np.convolve(s, h)"
   ]
  },
  {
   "cell_type": "code",
   "execution_count": null,
   "id": "7a90335a",
   "metadata": {},
   "outputs": [],
   "source": [
    "# h = 0.5 * np.ones(256)\n",
    "# h[64:192] += np.ones(128)\n",
    "# h[128 - 32:128 + 32] += np.ones(64)\n",
    "# h[128 - 16:128 + 16 + 32] += 0.4 * np.ones(32 + 32)\n",
    "# h = [\n",
    "# 1,2,3,4,5,6,7,8,9,10,9,8,7,6,5,4,3,2,1,\n",
    "# ]\n",
    "# from scipy.signal import cheby2\n",
    "\n",
    "# cheby2\n",
    "# h /= np.sum(h)"
   ]
  },
  {
   "cell_type": "code",
   "execution_count": null,
   "id": "8c9389ac",
   "metadata": {},
   "outputs": [],
   "source": [
    "import matplotlib.pyplot as plt\n",
    "import math\n",
    "\n",
    "plt.plot(h)\n",
    "plt.title('Low-pass Windowed-Sinc Filter Coefficients')\n",
    "plt.xlabel('Sample')\n",
    "plt.ylabel('Amplitude')\n",
    "plt.grid(True)\n",
    "plt.show()\n"
   ]
  },
  {
   "cell_type": "code",
   "execution_count": null,
   "id": "b1a6fbb4",
   "metadata": {},
   "outputs": [],
   "source": [
    "from scipy.signal import freqz\n",
    "\n",
    "w, H = freqz(h, worN=fS // 100, fs=fS)\n",
    "plt.figure()\n",
    "plt.plot(w, np.abs(H))\n",
    "plt.plot(w, H)\n",
    "plt.xlim(0, 2 * outFS)\n",
    "plt.xlabel('Frequency (Hz)')\n",
    "plt.ylabel('Magnitude (dB)')\n",
    "plt.title('Frequency Response of FIR Filter')\n",
    "plt.grid(True)\n",
    "plt.show()\n",
    "\n",
    "plt.figure()\n",
    "plt.plot(w, 20 * np.log10(np.abs(H)))\n",
    "plt.xlim(0, 2 * outFS)\n",
    "plt.ylim(-100, 10)\n",
    "plt.xlabel('Frequency (Hz)')\n",
    "plt.ylabel('Magnitude (dB)')\n",
    "plt.title('Frequency Response of FIR Filter')\n",
    "plt.grid(True)\n",
    "plt.show()\n",
    "\n",
    "plt.figure()\n",
    "plt.plot(w, 20 * np.log10(np.abs(H)))\n",
    "plt.xlabel('Frequency (Hz)')\n",
    "plt.ylabel('Magnitude (dB)')\n",
    "plt.title('Frequency Response of FIR Filter')\n",
    "plt.grid(True)\n",
    "plt.show()"
   ]
  },
  {
   "cell_type": "code",
   "execution_count": null,
   "id": "157ba868",
   "metadata": {},
   "outputs": [],
   "source": [
    "print('h =', repr([float(x) for x in h]))"
   ]
  }
 ],
 "metadata": {
  "kernelspec": {
   "display_name": ".venv",
   "language": "python",
   "name": "python3"
  },
  "language_info": {
   "codemirror_mode": {
    "name": "ipython",
    "version": 3
   },
   "file_extension": ".py",
   "mimetype": "text/x-python",
   "name": "python",
   "nbconvert_exporter": "python",
   "pygments_lexer": "ipython3",
   "version": "3.10.12"
  }
 },
 "nbformat": 4,
 "nbformat_minor": 5
}
